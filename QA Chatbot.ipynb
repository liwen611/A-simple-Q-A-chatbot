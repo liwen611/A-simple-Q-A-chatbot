{
 "cells": [
  {
   "cell_type": "markdown",
   "metadata": {},
   "source": [
    "This small project builds a small chatbot using end-to-end memory network.\n",
    "Read the reseach paper that this model is based on https://arxiv.org/pdf/1503.08895.pdf"
   ]
  },
  {
   "cell_type": "markdown",
   "metadata": {},
   "source": [
    "# Import data and simple exploration "
   ]
  },
  {
   "cell_type": "code",
   "execution_count": 3,
   "metadata": {},
   "outputs": [],
   "source": [
    "import pickle\n",
    "import numpy as np"
   ]
  },
  {
   "cell_type": "code",
   "execution_count": 4,
   "metadata": {},
   "outputs": [],
   "source": [
    "# import data\n",
    "with open(\"train_qa.txt\", \"rb\") as f:\n",
    "    train_data = pickle.load(f)\n",
    "\n",
    "with open(\"test_qa.txt\", \"rb\") as f:\n",
    "    test_data = pickle.load(f)"
   ]
  },
  {
   "cell_type": "code",
   "execution_count": 12,
   "metadata": {},
   "outputs": [
    {
     "name": "stdout",
     "output_type": "stream",
     "text": [
      "Mary moved to the bathroom . Sandra journeyed to the bedroom .\n",
      "Is Sandra in the hallway ?\n",
      "no\n"
     ]
    }
   ],
   "source": [
    "# training data is a list with set of tuple of three items, view the first item in the list\n",
    "print(' '.join(train_data[0][0])) # this is a story\n",
    "print(' '.join(train_data[0][1])) # this is a question\n",
    "print(''.join(train_data[0][2])) # this is an answer"
   ]
  },
  {
   "cell_type": "code",
   "execution_count": 13,
   "metadata": {},
   "outputs": [
    {
     "name": "stdout",
     "output_type": "stream",
     "text": [
      "Mary got the milk there . John moved to the bedroom .\n",
      "Is John in the kitchen ?\n",
      "no\n"
     ]
    }
   ],
   "source": [
    "print(' '.join(test_data[0][0]))\n",
    "print(' '.join(test_data[0][1]))\n",
    "print(''.join(test_data[0][2]))"
   ]
  },
  {
   "cell_type": "code",
   "execution_count": null,
   "metadata": {},
   "outputs": [],
   "source": [
    "# create a vocabulary \n",
    "all_data = train_data + test_data"
   ]
  },
  {
   "cell_type": "code",
   "execution_count": 28,
   "metadata": {},
   "outputs": [],
   "source": [
    "vocab = set()\n",
    "for story, question, answer in all_data:\n",
    "    vocab = vocab.union(set(story))\n",
    "    vocab = vocab.union(set(question))\n",
    "vocab.add('yes')\n",
    "vocab.add('no')"
   ]
  },
  {
   "cell_type": "code",
   "execution_count": 31,
   "metadata": {},
   "outputs": [
    {
     "data": {
      "text/plain": [
       "{'.',\n",
       " '?',\n",
       " 'Daniel',\n",
       " 'Is',\n",
       " 'John',\n",
       " 'Mary',\n",
       " 'Sandra',\n",
       " 'apple',\n",
       " 'back',\n",
       " 'bathroom',\n",
       " 'bedroom',\n",
       " 'discarded',\n",
       " 'down',\n",
       " 'dropped',\n",
       " 'football',\n",
       " 'garden',\n",
       " 'got',\n",
       " 'grabbed',\n",
       " 'hallway',\n",
       " 'in',\n",
       " 'journeyed',\n",
       " 'kitchen',\n",
       " 'left',\n",
       " 'milk',\n",
       " 'moved',\n",
       " 'no',\n",
       " 'office',\n",
       " 'picked',\n",
       " 'put',\n",
       " 'the',\n",
       " 'there',\n",
       " 'to',\n",
       " 'took',\n",
       " 'travelled',\n",
       " 'up',\n",
       " 'went',\n",
       " 'yes'}"
      ]
     },
     "execution_count": 31,
     "metadata": {},
     "output_type": "execute_result"
    }
   ],
   "source": [
    "# there are not that many words in the vocabulary\n",
    "vocab"
   ]
  },
  {
   "cell_type": "code",
   "execution_count": 32,
   "metadata": {},
   "outputs": [],
   "source": [
    "# make one place holder to use in keras for padding\n",
    "vocab_len = len(vocab) + 1"
   ]
  },
  {
   "cell_type": "code",
   "execution_count": 33,
   "metadata": {},
   "outputs": [],
   "source": [
    "# get the lengths of all sequences\n",
    "all_story_len = [len(data[0]) for data in all_data]\n",
    "max_story_len = max(all_story_len)\n",
    "\n",
    "all_question_len = [len(data[1]) for data in all_data]\n",
    "max_question_len = max(all_question_len)"
   ]
  },
  {
   "cell_type": "code",
   "execution_count": 34,
   "metadata": {},
   "outputs": [
    {
     "data": {
      "text/plain": [
       "(156, 6)"
      ]
     },
     "execution_count": 34,
     "metadata": {},
     "output_type": "execute_result"
    }
   ],
   "source": [
    "max_story_len, max_question_len"
   ]
  },
  {
   "cell_type": "markdown",
   "metadata": {},
   "source": [
    "# Vectorize the data"
   ]
  },
  {
   "cell_type": "code",
   "execution_count": 35,
   "metadata": {},
   "outputs": [
    {
     "name": "stderr",
     "output_type": "stream",
     "text": [
      "Using TensorFlow backend.\n"
     ]
    }
   ],
   "source": [
    "from keras.preprocessing.sequence import pad_sequences\n",
    "from keras.preprocessing.text import Tokenizer"
   ]
  },
  {
   "cell_type": "code",
   "execution_count": 37,
   "metadata": {},
   "outputs": [],
   "source": [
    "# initiate a tokenizer instance and fit the vocabulary to it\n",
    "tokenizer = Tokenizer(filters=[])\n",
    "tokenizer.fit_on_texts(vocab)"
   ]
  },
  {
   "cell_type": "code",
   "execution_count": 40,
   "metadata": {},
   "outputs": [
    {
     "data": {
      "text/plain": [
       "{'apple': 1,\n",
       " 'left': 2,\n",
       " 'sandra': 3,\n",
       " 'put': 4,\n",
       " 'kitchen': 5,\n",
       " 'in': 6,\n",
       " 'milk': 7,\n",
       " 'dropped': 8,\n",
       " 'back': 9,\n",
       " 'to': 10,\n",
       " 'the': 11,\n",
       " 'john': 12,\n",
       " 'garden': 13,\n",
       " '.': 14,\n",
       " 'picked': 15,\n",
       " 'travelled': 16,\n",
       " 'football': 17,\n",
       " 'there': 18,\n",
       " 'daniel': 19,\n",
       " 'took': 20,\n",
       " 'bathroom': 21,\n",
       " 'journeyed': 22,\n",
       " 'is': 23,\n",
       " 'hallway': 24,\n",
       " 'moved': 25,\n",
       " 'bedroom': 26,\n",
       " 'got': 27,\n",
       " '?': 28,\n",
       " 'grabbed': 29,\n",
       " 'went': 30,\n",
       " 'down': 31,\n",
       " 'up': 32,\n",
       " 'discarded': 33,\n",
       " 'no': 34,\n",
       " 'yes': 35,\n",
       " 'office': 36,\n",
       " 'mary': 37}"
      ]
     },
     "execution_count": 40,
     "metadata": {},
     "output_type": "execute_result"
    }
   ],
   "source": [
    "# check the tokenizer object, this is just a dictionary mapping a word to an index, note that all the words are lower-cased \n",
    "tokenizer.word_index"
   ]
  },
  {
   "cell_type": "code",
   "execution_count": 42,
   "metadata": {},
   "outputs": [],
   "source": [
    "# the next step is to transform the training data and testing data with this map, \n",
    "#the following function will achieve this output the padded sequence\n",
    "def vectorize_stories(data, word_index = tokenizer.word_index, max_story_len = max_story_len, max_question_len = max_question_len):\n",
    "    X = [] # story\n",
    "    Xq = [] # question\n",
    "    Y = [] # answer -- target\n",
    "    \n",
    "    for story, question, answer in data:\n",
    "        x = [word_index[word.lower()] for word in story]\n",
    "        xq = [word_index[word.lower()] for word in question]\n",
    "        y = np.zeros(len(word_index)+1)\n",
    "        y[word_index[answer]] = 1\n",
    "        \n",
    "        X.append(x)\n",
    "        Xq.append(xq)\n",
    "        Y.append(y)\n",
    "    \n",
    "    # return a final tuple that can be unpacked\n",
    "    return (pad_sequences(X, maxlen = max_story_len), pad_sequences(Xq, maxlen = max_question_len), np.array(Y))\n"
   ]
  },
  {
   "cell_type": "code",
   "execution_count": 45,
   "metadata": {},
   "outputs": [],
   "source": [
    "# apply the function\n",
    "story_train, question_train, answer_train = vectorize_stories(train_data)\n",
    "story_test, question_test, answer_test = vectorize_stories(test_data)"
   ]
  },
  {
   "cell_type": "code",
   "execution_count": 48,
   "metadata": {},
   "outputs": [
    {
     "data": {
      "text/plain": [
       "10000"
      ]
     },
     "execution_count": 48,
     "metadata": {},
     "output_type": "execute_result"
    }
   ],
   "source": [
    "len(story_train)"
   ]
  },
  {
   "cell_type": "code",
   "execution_count": 49,
   "metadata": {},
   "outputs": [
    {
     "data": {
      "text/plain": [
       "array([[ 0,  0,  0, ..., 11, 26, 14],\n",
       "       [ 0,  0,  0, ..., 11, 13, 14],\n",
       "       [ 0,  0,  0, ..., 11, 13, 14],\n",
       "       ...,\n",
       "       [ 0,  0,  0, ..., 11,  1, 14],\n",
       "       [ 0,  0,  0, ..., 11, 13, 14],\n",
       "       [ 0,  0,  0, ...,  1, 18, 14]], dtype=int32)"
      ]
     },
     "execution_count": 49,
     "metadata": {},
     "output_type": "execute_result"
    }
   ],
   "source": [
    "story_test"
   ]
  },
  {
   "cell_type": "code",
   "execution_count": 51,
   "metadata": {},
   "outputs": [
    {
     "data": {
      "text/plain": [
       "array([[0., 0., 0., ..., 0., 0., 0.],\n",
       "       [0., 0., 0., ..., 0., 0., 0.],\n",
       "       [0., 0., 0., ..., 1., 0., 0.],\n",
       "       ...,\n",
       "       [0., 0., 0., ..., 0., 0., 0.],\n",
       "       [0., 0., 0., ..., 1., 0., 0.],\n",
       "       [0., 0., 0., ..., 1., 0., 0.]])"
      ]
     },
     "execution_count": 51,
     "metadata": {},
     "output_type": "execute_result"
    }
   ],
   "source": [
    "answer_test"
   ]
  },
  {
   "cell_type": "code",
   "execution_count": 53,
   "metadata": {},
   "outputs": [
    {
     "data": {
      "text/plain": [
       "(35, 34)"
      ]
     },
     "execution_count": 53,
     "metadata": {},
     "output_type": "execute_result"
    }
   ],
   "source": [
    "tokenizer.word_index['yes'], tokenizer.word_index['no']"
   ]
  },
  {
   "cell_type": "code",
   "execution_count": 54,
   "metadata": {},
   "outputs": [
    {
     "data": {
      "text/plain": [
       "array([  0.,   0.,   0.,   0.,   0.,   0.,   0.,   0.,   0.,   0.,   0.,\n",
       "         0.,   0.,   0.,   0.,   0.,   0.,   0.,   0.,   0.,   0.,   0.,\n",
       "         0.,   0.,   0.,   0.,   0.,   0.,   0.,   0.,   0.,   0.,   0.,\n",
       "         0., 503., 497.,   0.,   0.])"
      ]
     },
     "execution_count": 54,
     "metadata": {},
     "output_type": "execute_result"
    }
   ],
   "source": [
    "sum(answer_test)"
   ]
  },
  {
   "cell_type": "markdown",
   "metadata": {},
   "source": [
    "# Create the model with Keras "
   ]
  },
  {
   "cell_type": "code",
   "execution_count": 60,
   "metadata": {},
   "outputs": [],
   "source": [
    "from keras.models import Sequential, Model\n",
    "from keras.layers.embeddings import Embedding\n",
    "from keras.layers import Activation\n",
    "from keras.layers import Input, Dense, Permute, Dropout, add, dot, concatenate, LSTM"
   ]
  },
  {
   "cell_type": "code",
   "execution_count": 63,
   "metadata": {},
   "outputs": [],
   "source": [
    "# create a place holder using the input function, instantiate a keras tensor\n",
    "# shape takes in two parameter, the padded lenth and the batch size, we are leaving the batch size blank == None here\n",
    "input_sequence = Input((max_story_len, ))\n",
    "question = Input((max_question_len,))"
   ]
  },
  {
   "cell_type": "code",
   "execution_count": 65,
   "metadata": {},
   "outputs": [],
   "source": [
    "# create input encoder\n",
    "vocab_size = len(vocab) + 1\n",
    "input_encoder_m = Sequential()\n",
    "input_encoder_m.add(Embedding(input_dim = vocab_size, output_dim = 64)) # refer to the paper for 64 as dimension\n",
    "input_encoder_m.add(Dropout(0.3)) \n",
    "# 30% of the neurons turned off during the training, helps with overfitting, experimental value the bigger the longer it takes to train\n",
    "# this encoder output (samples, story_max_len, embedding_dim)"
   ]
  },
  {
   "cell_type": "code",
   "execution_count": 66,
   "metadata": {},
   "outputs": [],
   "source": [
    "input_encoder_c = Sequential()\n",
    "input_encoder_c.add(Embedding(input_dim = vocab_size, output_dim = max_question_len)) # refer to the paper for 64 as dimension\n",
    "input_encoder_c.add(Dropout(0.3)) \n",
    "# this encoder output (samples, story_max_len, max_question_len)"
   ]
  },
  {
   "cell_type": "code",
   "execution_count": 69,
   "metadata": {},
   "outputs": [],
   "source": [
    "# the question encoder\n",
    "question_encoder = Sequential()\n",
    "question_encoder.add(Embedding(input_dim = vocab_size, output_dim = 64, input_length = max_question_len)) # refer to the paper for 64 as dimension\n",
    "question_encoder.add(Dropout(0.3))\n",
    "# this encoder output (sample, question_max_len, embedding_dim)"
   ]
  },
  {
   "cell_type": "code",
   "execution_count": 70,
   "metadata": {},
   "outputs": [],
   "source": [
    "# pass the input through the encoders -- encoded = encoder(input)\n",
    "input_encoded_m = input_encoder_m(input_sequence)\n",
    "input_encoded_c = input_encoder_c(input_sequence)\n",
    "question_encoded = question_encoder(question)"
   ]
  },
  {
   "cell_type": "code",
   "execution_count": 71,
   "metadata": {},
   "outputs": [],
   "source": [
    "# create dot products between the stories and the questions\n",
    "match = dot([input_encoded_m, question_encoded], axes = (2,2))\n",
    "match = Activation('softmax')(match)"
   ]
  },
  {
   "cell_type": "code",
   "execution_count": 72,
   "metadata": {},
   "outputs": [],
   "source": [
    "# add this match matrix with the second vector sequence matrix\n",
    "response = add([match, input_encoded_c])\n",
    "response = Permute((2, 1))(response) # convert to the sample dim by story max len and question max_len"
   ]
  },
  {
   "cell_type": "code",
   "execution_count": 73,
   "metadata": {},
   "outputs": [],
   "source": [
    "# concatnate the match matrix with the question vector sequence\n",
    "answer = concatenate([response, question_encoded])"
   ]
  },
  {
   "cell_type": "code",
   "execution_count": 74,
   "metadata": {},
   "outputs": [
    {
     "data": {
      "text/plain": [
       "<tf.Tensor 'concatenate_1/concat:0' shape=(None, 6, 220) dtype=float32>"
      ]
     },
     "execution_count": 74,
     "metadata": {},
     "output_type": "execute_result"
    }
   ],
   "source": [
    "answer"
   ]
  },
  {
   "cell_type": "code",
   "execution_count": 75,
   "metadata": {},
   "outputs": [],
   "source": [
    "answer = LSTM(32)(answer)\n",
    "answer = Dropout(0.5)(answer) # regularization\n",
    "answer = Dense(vocab_size)(answer) # output layer, samples, vocab_size yes/no "
   ]
  },
  {
   "cell_type": "code",
   "execution_count": 80,
   "metadata": {},
   "outputs": [],
   "source": [
    "# output a prob distribution of the vocab\n",
    "answer = Activation('softmax')(answer)"
   ]
  },
  {
   "cell_type": "code",
   "execution_count": 81,
   "metadata": {},
   "outputs": [],
   "source": [
    "# build the final model\n",
    "model = Model([input_sequence, question], answer)"
   ]
  },
  {
   "cell_type": "code",
   "execution_count": 83,
   "metadata": {},
   "outputs": [],
   "source": [
    "# compile the model\n",
    "model.compile(optimizer = 'rmsprop', loss = 'categorical_crossentropy', metrics = ['accuracy'])"
   ]
  },
  {
   "cell_type": "code",
   "execution_count": 84,
   "metadata": {},
   "outputs": [
    {
     "name": "stdout",
     "output_type": "stream",
     "text": [
      "Model: \"model_1\"\n",
      "__________________________________________________________________________________________________\n",
      "Layer (type)                    Output Shape         Param #     Connected to                     \n",
      "==================================================================================================\n",
      "input_1 (InputLayer)            (None, 156)          0                                            \n",
      "__________________________________________________________________________________________________\n",
      "input_2 (InputLayer)            (None, 6)            0                                            \n",
      "__________________________________________________________________________________________________\n",
      "sequential_1 (Sequential)       multiple             2432        input_1[0][0]                    \n",
      "__________________________________________________________________________________________________\n",
      "sequential_5 (Sequential)       (None, 6, 64)        2432        input_2[0][0]                    \n",
      "__________________________________________________________________________________________________\n",
      "dot_1 (Dot)                     (None, 156, 6)       0           sequential_1[1][0]               \n",
      "                                                                 sequential_5[1][0]               \n",
      "__________________________________________________________________________________________________\n",
      "activation_1 (Activation)       (None, 156, 6)       0           dot_1[0][0]                      \n",
      "__________________________________________________________________________________________________\n",
      "sequential_2 (Sequential)       multiple             228         input_1[0][0]                    \n",
      "__________________________________________________________________________________________________\n",
      "add_1 (Add)                     (None, 156, 6)       0           activation_1[0][0]               \n",
      "                                                                 sequential_2[1][0]               \n",
      "__________________________________________________________________________________________________\n",
      "permute_1 (Permute)             (None, 6, 156)       0           add_1[0][0]                      \n",
      "__________________________________________________________________________________________________\n",
      "concatenate_1 (Concatenate)     (None, 6, 220)       0           permute_1[0][0]                  \n",
      "                                                                 sequential_5[1][0]               \n",
      "__________________________________________________________________________________________________\n",
      "lstm_1 (LSTM)                   (None, 32)           32384       concatenate_1[0][0]              \n",
      "__________________________________________________________________________________________________\n",
      "dropout_5 (Dropout)             (None, 32)           0           lstm_1[0][0]                     \n",
      "__________________________________________________________________________________________________\n",
      "dense_1 (Dense)                 (None, 38)           1254        dropout_5[0][0]                  \n",
      "__________________________________________________________________________________________________\n",
      "activation_2 (Activation)       (None, 38)           0           dense_1[0][0]                    \n",
      "==================================================================================================\n",
      "Total params: 38,730\n",
      "Trainable params: 38,730\n",
      "Non-trainable params: 0\n",
      "__________________________________________________________________________________________________\n"
     ]
    }
   ],
   "source": [
    "model.summary()"
   ]
  },
  {
   "cell_type": "markdown",
   "metadata": {},
   "source": [
    "# Train and evaluate the model"
   ]
  },
  {
   "cell_type": "code",
   "execution_count": 86,
   "metadata": {},
   "outputs": [
    {
     "name": "stdout",
     "output_type": "stream",
     "text": [
      "Train on 10000 samples, validate on 1000 samples\n",
      "Epoch 1/100\n",
      "10000/10000 [==============================] - 2s 175us/step - loss: 0.5177 - accuracy: 0.7522 - val_loss: 0.5023 - val_accuracy: 0.7670\n",
      "Epoch 2/100\n",
      "10000/10000 [==============================] - 2s 161us/step - loss: 0.5001 - accuracy: 0.7620 - val_loss: 0.4927 - val_accuracy: 0.7780\n",
      "Epoch 3/100\n",
      "10000/10000 [==============================] - 2s 161us/step - loss: 0.4813 - accuracy: 0.7773 - val_loss: 0.4942 - val_accuracy: 0.7750\n",
      "Epoch 4/100\n",
      "10000/10000 [==============================] - 2s 161us/step - loss: 0.4696 - accuracy: 0.7892 - val_loss: 0.5066 - val_accuracy: 0.7610\n",
      "Epoch 5/100\n",
      "10000/10000 [==============================] - 2s 166us/step - loss: 0.4694 - accuracy: 0.7865 - val_loss: 0.4651 - val_accuracy: 0.7890\n",
      "Epoch 6/100\n",
      "10000/10000 [==============================] - 2s 168us/step - loss: 0.4561 - accuracy: 0.7926 - val_loss: 0.4916 - val_accuracy: 0.7760\n",
      "Epoch 7/100\n",
      "10000/10000 [==============================] - 2s 165us/step - loss: 0.4431 - accuracy: 0.8005 - val_loss: 0.4618 - val_accuracy: 0.7980\n",
      "Epoch 8/100\n",
      "10000/10000 [==============================] - 2s 167us/step - loss: 0.4415 - accuracy: 0.8023 - val_loss: 0.4596 - val_accuracy: 0.7890\n",
      "Epoch 9/100\n",
      "10000/10000 [==============================] - 2s 167us/step - loss: 0.4375 - accuracy: 0.8079 - val_loss: 0.4578 - val_accuracy: 0.7920\n",
      "Epoch 10/100\n",
      "10000/10000 [==============================] - 2s 171us/step - loss: 0.4363 - accuracy: 0.8083 - val_loss: 0.4573 - val_accuracy: 0.7870\n",
      "Epoch 11/100\n",
      "10000/10000 [==============================] - 2s 168us/step - loss: 0.4314 - accuracy: 0.8066 - val_loss: 0.4546 - val_accuracy: 0.7980\n",
      "Epoch 12/100\n",
      "10000/10000 [==============================] - 2s 171us/step - loss: 0.4218 - accuracy: 0.8151 - val_loss: 0.4646 - val_accuracy: 0.7900\n",
      "Epoch 13/100\n",
      "10000/10000 [==============================] - 2s 174us/step - loss: 0.4220 - accuracy: 0.8121 - val_loss: 0.4553 - val_accuracy: 0.7910\n",
      "Epoch 14/100\n",
      "10000/10000 [==============================] - 2s 172us/step - loss: 0.4185 - accuracy: 0.8132 - val_loss: 0.4673 - val_accuracy: 0.7800\n",
      "Epoch 15/100\n",
      "10000/10000 [==============================] - 2s 171us/step - loss: 0.4092 - accuracy: 0.8179 - val_loss: 0.4534 - val_accuracy: 0.7970\n",
      "Epoch 16/100\n",
      "10000/10000 [==============================] - 2s 176us/step - loss: 0.4130 - accuracy: 0.8179 - val_loss: 0.4594 - val_accuracy: 0.7860\n",
      "Epoch 17/100\n",
      "10000/10000 [==============================] - 2s 180us/step - loss: 0.4099 - accuracy: 0.8176 - val_loss: 0.4709 - val_accuracy: 0.7930\n",
      "Epoch 18/100\n",
      "10000/10000 [==============================] - 2s 176us/step - loss: 0.4061 - accuracy: 0.8179 - val_loss: 0.4847 - val_accuracy: 0.7750\n",
      "Epoch 19/100\n",
      "10000/10000 [==============================] - 2s 174us/step - loss: 0.3984 - accuracy: 0.8225 - val_loss: 0.4464 - val_accuracy: 0.7910\n",
      "Epoch 20/100\n",
      "10000/10000 [==============================] - 2s 178us/step - loss: 0.3941 - accuracy: 0.8255 - val_loss: 0.4563 - val_accuracy: 0.7920\n",
      "Epoch 21/100\n",
      "10000/10000 [==============================] - 2s 178us/step - loss: 0.3996 - accuracy: 0.8213 - val_loss: 0.4770 - val_accuracy: 0.7860\n",
      "Epoch 22/100\n",
      "10000/10000 [==============================] - 2s 180us/step - loss: 0.3906 - accuracy: 0.8243 - val_loss: 0.4551 - val_accuracy: 0.7850\n",
      "Epoch 23/100\n",
      "10000/10000 [==============================] - 2s 179us/step - loss: 0.3887 - accuracy: 0.8268 - val_loss: 0.4479 - val_accuracy: 0.7960\n",
      "Epoch 24/100\n",
      "10000/10000 [==============================] - 2s 180us/step - loss: 0.3873 - accuracy: 0.8260 - val_loss: 0.4456 - val_accuracy: 0.8020\n",
      "Epoch 25/100\n",
      "10000/10000 [==============================] - 2s 191us/step - loss: 0.3852 - accuracy: 0.8248 - val_loss: 0.4949 - val_accuracy: 0.8000\n",
      "Epoch 26/100\n",
      "10000/10000 [==============================] - 2s 181us/step - loss: 0.3776 - accuracy: 0.8326 - val_loss: 0.4454 - val_accuracy: 0.8000\n",
      "Epoch 27/100\n",
      "10000/10000 [==============================] - 2s 184us/step - loss: 0.3846 - accuracy: 0.8291 - val_loss: 0.4487 - val_accuracy: 0.7980\n",
      "Epoch 28/100\n",
      "10000/10000 [==============================] - 2s 201us/step - loss: 0.3786 - accuracy: 0.8301 - val_loss: 0.4655 - val_accuracy: 0.8050\n",
      "Epoch 29/100\n",
      "10000/10000 [==============================] - 2s 220us/step - loss: 0.3798 - accuracy: 0.8315 - val_loss: 0.4471 - val_accuracy: 0.8010\n",
      "Epoch 30/100\n",
      "10000/10000 [==============================] - 2s 233us/step - loss: 0.3682 - accuracy: 0.8383 - val_loss: 0.4481 - val_accuracy: 0.8190\n",
      "Epoch 31/100\n",
      "10000/10000 [==============================] - 2s 248us/step - loss: 0.3674 - accuracy: 0.8354 - val_loss: 0.4552 - val_accuracy: 0.8110\n",
      "Epoch 32/100\n",
      "10000/10000 [==============================] - 3s 264us/step - loss: 0.3622 - accuracy: 0.8430 - val_loss: 0.4411 - val_accuracy: 0.8090\n",
      "Epoch 33/100\n",
      "10000/10000 [==============================] - 3s 266us/step - loss: 0.3594 - accuracy: 0.8451 - val_loss: 0.4188 - val_accuracy: 0.8220\n",
      "Epoch 34/100\n",
      "10000/10000 [==============================] - 3s 287us/step - loss: 0.3562 - accuracy: 0.8446 - val_loss: 0.4224 - val_accuracy: 0.8090\n",
      "Epoch 35/100\n",
      "10000/10000 [==============================] - 3s 292us/step - loss: 0.3566 - accuracy: 0.8506 - val_loss: 0.4492 - val_accuracy: 0.8180\n",
      "Epoch 36/100\n",
      "10000/10000 [==============================] - 3s 291us/step - loss: 0.3477 - accuracy: 0.8493 - val_loss: 0.4226 - val_accuracy: 0.8210\n",
      "Epoch 37/100\n",
      "10000/10000 [==============================] - 3s 295us/step - loss: 0.3481 - accuracy: 0.8471 - val_loss: 0.4228 - val_accuracy: 0.8190\n",
      "Epoch 38/100\n",
      "10000/10000 [==============================] - 3s 298us/step - loss: 0.3457 - accuracy: 0.8518 - val_loss: 0.4262 - val_accuracy: 0.8240\n",
      "Epoch 39/100\n",
      "10000/10000 [==============================] - 3s 290us/step - loss: 0.3486 - accuracy: 0.8519 - val_loss: 0.4210 - val_accuracy: 0.8190\n",
      "Epoch 40/100\n",
      "10000/10000 [==============================] - 3s 298us/step - loss: 0.3425 - accuracy: 0.8527 - val_loss: 0.4340 - val_accuracy: 0.8230\n",
      "Epoch 41/100\n",
      "10000/10000 [==============================] - 3s 291us/step - loss: 0.3352 - accuracy: 0.8548 - val_loss: 0.4421 - val_accuracy: 0.8220\n",
      "Epoch 42/100\n",
      "10000/10000 [==============================] - 3s 276us/step - loss: 0.3426 - accuracy: 0.8544 - val_loss: 0.4273 - val_accuracy: 0.8210\n",
      "Epoch 43/100\n",
      "10000/10000 [==============================] - 3s 268us/step - loss: 0.3316 - accuracy: 0.8552 - val_loss: 0.4309 - val_accuracy: 0.8170\n",
      "Epoch 44/100\n",
      "10000/10000 [==============================] - 3s 271us/step - loss: 0.3346 - accuracy: 0.8578 - val_loss: 0.4222 - val_accuracy: 0.8220\n",
      "Epoch 45/100\n",
      "10000/10000 [==============================] - 3s 276us/step - loss: 0.3318 - accuracy: 0.8585 - val_loss: 0.4273 - val_accuracy: 0.8320\n",
      "Epoch 46/100\n",
      "10000/10000 [==============================] - 3s 266us/step - loss: 0.3281 - accuracy: 0.8594 - val_loss: 0.4107 - val_accuracy: 0.8240\n",
      "Epoch 47/100\n",
      "10000/10000 [==============================] - 3s 257us/step - loss: 0.3284 - accuracy: 0.8600 - val_loss: 0.4475 - val_accuracy: 0.8190\n",
      "Epoch 48/100\n",
      "10000/10000 [==============================] - 2s 246us/step - loss: 0.3246 - accuracy: 0.8580 - val_loss: 0.4384 - val_accuracy: 0.8200\n",
      "Epoch 49/100\n",
      "10000/10000 [==============================] - 2s 239us/step - loss: 0.3200 - accuracy: 0.8619 - val_loss: 0.4176 - val_accuracy: 0.8250\n",
      "Epoch 50/100\n",
      "10000/10000 [==============================] - 2s 229us/step - loss: 0.3212 - accuracy: 0.8625 - val_loss: 0.4306 - val_accuracy: 0.8230\n",
      "Epoch 51/100\n",
      "10000/10000 [==============================] - 2s 219us/step - loss: 0.3200 - accuracy: 0.8622 - val_loss: 0.4234 - val_accuracy: 0.8130\n",
      "Epoch 52/100\n",
      "10000/10000 [==============================] - 2s 213us/step - loss: 0.3153 - accuracy: 0.8663 - val_loss: 0.4385 - val_accuracy: 0.8170\n",
      "Epoch 53/100\n",
      "10000/10000 [==============================] - 2s 210us/step - loss: 0.3177 - accuracy: 0.8640 - val_loss: 0.4295 - val_accuracy: 0.8170\n",
      "Epoch 54/100\n",
      "10000/10000 [==============================] - 2s 202us/step - loss: 0.3138 - accuracy: 0.8631 - val_loss: 0.4165 - val_accuracy: 0.8200\n",
      "Epoch 55/100\n"
     ]
    },
    {
     "name": "stdout",
     "output_type": "stream",
     "text": [
      "10000/10000 [==============================] - 2s 195us/step - loss: 0.3094 - accuracy: 0.8687 - val_loss: 0.4264 - val_accuracy: 0.8270\n",
      "Epoch 56/100\n",
      "10000/10000 [==============================] - 2s 188us/step - loss: 0.3071 - accuracy: 0.8701 - val_loss: 0.4398 - val_accuracy: 0.8160\n",
      "Epoch 57/100\n",
      "10000/10000 [==============================] - 2s 184us/step - loss: 0.3043 - accuracy: 0.8715 - val_loss: 0.4204 - val_accuracy: 0.8220\n",
      "Epoch 58/100\n",
      "10000/10000 [==============================] - 2s 179us/step - loss: 0.3077 - accuracy: 0.8683 - val_loss: 0.4828 - val_accuracy: 0.8130\n",
      "Epoch 59/100\n",
      "10000/10000 [==============================] - 2s 182us/step - loss: 0.3091 - accuracy: 0.8684 - val_loss: 0.4491 - val_accuracy: 0.8200\n",
      "Epoch 60/100\n",
      "10000/10000 [==============================] - 2s 183us/step - loss: 0.3024 - accuracy: 0.8720 - val_loss: 0.4312 - val_accuracy: 0.8140\n",
      "Epoch 61/100\n",
      "10000/10000 [==============================] - 2s 183us/step - loss: 0.3035 - accuracy: 0.8737 - val_loss: 0.4211 - val_accuracy: 0.8300\n",
      "Epoch 62/100\n",
      "10000/10000 [==============================] - 2s 184us/step - loss: 0.2942 - accuracy: 0.8765 - val_loss: 0.4376 - val_accuracy: 0.8170\n",
      "Epoch 63/100\n",
      "10000/10000 [==============================] - 2s 183us/step - loss: 0.2949 - accuracy: 0.8746 - val_loss: 0.4343 - val_accuracy: 0.8130\n",
      "Epoch 64/100\n",
      "10000/10000 [==============================] - 2s 186us/step - loss: 0.2946 - accuracy: 0.8733 - val_loss: 0.4510 - val_accuracy: 0.8090\n",
      "Epoch 65/100\n",
      "10000/10000 [==============================] - 2s 186us/step - loss: 0.3000 - accuracy: 0.8739 - val_loss: 0.4456 - val_accuracy: 0.8140\n",
      "Epoch 66/100\n",
      "10000/10000 [==============================] - 2s 187us/step - loss: 0.2935 - accuracy: 0.8752 - val_loss: 0.4344 - val_accuracy: 0.8230\n",
      "Epoch 67/100\n",
      "10000/10000 [==============================] - 2s 185us/step - loss: 0.2873 - accuracy: 0.8746 - val_loss: 0.4449 - val_accuracy: 0.8190\n",
      "Epoch 68/100\n",
      "10000/10000 [==============================] - 2s 188us/step - loss: 0.2845 - accuracy: 0.8813 - val_loss: 0.4431 - val_accuracy: 0.8250\n",
      "Epoch 69/100\n",
      "10000/10000 [==============================] - 2s 190us/step - loss: 0.2899 - accuracy: 0.8749 - val_loss: 0.4735 - val_accuracy: 0.8260\n",
      "Epoch 70/100\n",
      "10000/10000 [==============================] - 2s 201us/step - loss: 0.2869 - accuracy: 0.8799 - val_loss: 0.4462 - val_accuracy: 0.8290\n",
      "Epoch 71/100\n",
      "10000/10000 [==============================] - 2s 197us/step - loss: 0.2843 - accuracy: 0.8779 - val_loss: 0.4782 - val_accuracy: 0.8130\n",
      "Epoch 72/100\n",
      "10000/10000 [==============================] - 2s 203us/step - loss: 0.2774 - accuracy: 0.8831 - val_loss: 0.4588 - val_accuracy: 0.8250\n",
      "Epoch 73/100\n",
      "10000/10000 [==============================] - 2s 207us/step - loss: 0.2849 - accuracy: 0.8762 - val_loss: 0.4586 - val_accuracy: 0.8250\n",
      "Epoch 74/100\n",
      "10000/10000 [==============================] - 2s 207us/step - loss: 0.2798 - accuracy: 0.8835 - val_loss: 0.4713 - val_accuracy: 0.8170\n",
      "Epoch 75/100\n",
      "10000/10000 [==============================] - 2s 210us/step - loss: 0.2810 - accuracy: 0.8809 - val_loss: 0.4549 - val_accuracy: 0.8210\n",
      "Epoch 76/100\n",
      "10000/10000 [==============================] - 2s 206us/step - loss: 0.2791 - accuracy: 0.8828 - val_loss: 0.4502 - val_accuracy: 0.8180\n",
      "Epoch 77/100\n",
      "10000/10000 [==============================] - 2s 208us/step - loss: 0.2778 - accuracy: 0.8835 - val_loss: 0.4335 - val_accuracy: 0.8140\n",
      "Epoch 78/100\n",
      "10000/10000 [==============================] - 2s 209us/step - loss: 0.2764 - accuracy: 0.8842 - val_loss: 0.4570 - val_accuracy: 0.8180\n",
      "Epoch 79/100\n",
      "10000/10000 [==============================] - 2s 209us/step - loss: 0.2732 - accuracy: 0.8846 - val_loss: 0.4600 - val_accuracy: 0.8260\n",
      "Epoch 80/100\n",
      "10000/10000 [==============================] - 2s 206us/step - loss: 0.2742 - accuracy: 0.8863 - val_loss: 0.4996 - val_accuracy: 0.8130\n",
      "Epoch 81/100\n",
      "10000/10000 [==============================] - 2s 207us/step - loss: 0.2709 - accuracy: 0.8868 - val_loss: 0.4552 - val_accuracy: 0.8200\n",
      "Epoch 82/100\n",
      "10000/10000 [==============================] - 2s 206us/step - loss: 0.2743 - accuracy: 0.8821 - val_loss: 0.4686 - val_accuracy: 0.8160\n",
      "Epoch 83/100\n",
      "10000/10000 [==============================] - 2s 207us/step - loss: 0.2639 - accuracy: 0.8875 - val_loss: 0.5075 - val_accuracy: 0.8260\n",
      "Epoch 84/100\n",
      "10000/10000 [==============================] - 2s 202us/step - loss: 0.2647 - accuracy: 0.8876 - val_loss: 0.4768 - val_accuracy: 0.8180\n",
      "Epoch 85/100\n",
      "10000/10000 [==============================] - 2s 201us/step - loss: 0.2665 - accuracy: 0.8915 - val_loss: 0.4723 - val_accuracy: 0.8210\n",
      "Epoch 86/100\n",
      "10000/10000 [==============================] - 2s 201us/step - loss: 0.2627 - accuracy: 0.8887 - val_loss: 0.4607 - val_accuracy: 0.8180\n",
      "Epoch 87/100\n",
      "10000/10000 [==============================] - 2s 197us/step - loss: 0.2669 - accuracy: 0.8868 - val_loss: 0.4641 - val_accuracy: 0.8220\n",
      "Epoch 88/100\n",
      "10000/10000 [==============================] - 2s 194us/step - loss: 0.2588 - accuracy: 0.8926 - val_loss: 0.4991 - val_accuracy: 0.8220\n",
      "Epoch 89/100\n",
      "10000/10000 [==============================] - 2s 196us/step - loss: 0.2634 - accuracy: 0.8923 - val_loss: 0.5173 - val_accuracy: 0.8190\n",
      "Epoch 90/100\n",
      "10000/10000 [==============================] - 2s 194us/step - loss: 0.2627 - accuracy: 0.8887 - val_loss: 0.4779 - val_accuracy: 0.8250\n",
      "Epoch 91/100\n",
      "10000/10000 [==============================] - 2s 191us/step - loss: 0.2629 - accuracy: 0.8895 - val_loss: 0.4684 - val_accuracy: 0.8220\n",
      "Epoch 92/100\n",
      "10000/10000 [==============================] - 2s 197us/step - loss: 0.2538 - accuracy: 0.8955 - val_loss: 0.4961 - val_accuracy: 0.8160\n",
      "Epoch 93/100\n",
      "10000/10000 [==============================] - 2s 199us/step - loss: 0.2626 - accuracy: 0.8887 - val_loss: 0.4943 - val_accuracy: 0.8100\n",
      "Epoch 94/100\n",
      "10000/10000 [==============================] - 2s 192us/step - loss: 0.2546 - accuracy: 0.8965 - val_loss: 0.4839 - val_accuracy: 0.8120\n",
      "Epoch 95/100\n",
      "10000/10000 [==============================] - 2s 196us/step - loss: 0.2520 - accuracy: 0.8957 - val_loss: 0.5065 - val_accuracy: 0.8100\n",
      "Epoch 96/100\n",
      "10000/10000 [==============================] - 2s 194us/step - loss: 0.2477 - accuracy: 0.8958 - val_loss: 0.5236 - val_accuracy: 0.8150\n",
      "Epoch 97/100\n",
      "10000/10000 [==============================] - 2s 202us/step - loss: 0.2521 - accuracy: 0.8948 - val_loss: 0.4590 - val_accuracy: 0.8060\n",
      "Epoch 98/100\n",
      "10000/10000 [==============================] - 2s 199us/step - loss: 0.2552 - accuracy: 0.8908 - val_loss: 0.5052 - val_accuracy: 0.8130\n",
      "Epoch 99/100\n",
      "10000/10000 [==============================] - 2s 198us/step - loss: 0.2574 - accuracy: 0.8923 - val_loss: 0.5608 - val_accuracy: 0.8170\n",
      "Epoch 100/100\n",
      "10000/10000 [==============================] - 2s 198us/step - loss: 0.2537 - accuracy: 0.8932 - val_loss: 0.4938 - val_accuracy: 0.8190\n"
     ]
    }
   ],
   "source": [
    "history = model.fit([story_train, question_train], answer_train, batch_size = 32, epochs = 100, \n",
    "                    validation_data = ([story_test, question_test], answer_test))"
   ]
  },
  {
   "cell_type": "code",
   "execution_count": 87,
   "metadata": {},
   "outputs": [],
   "source": [
    "# save the model\n",
    "file_name = 'chatbot_model_v1.h5'\n",
    "model.save(file_name)\n",
    "# this is how you reload the model\n",
    "# model.load_weight(file_name)"
   ]
  },
  {
   "cell_type": "code",
   "execution_count": 89,
   "metadata": {},
   "outputs": [],
   "source": [
    "import matplotlib.pyplot as plt\n",
    "%matplotlib inline"
   ]
  },
  {
   "cell_type": "code",
   "execution_count": 90,
   "metadata": {},
   "outputs": [
    {
     "name": "stdout",
     "output_type": "stream",
     "text": [
      "dict_keys(['val_loss', 'val_accuracy', 'loss', 'accuracy'])\n"
     ]
    }
   ],
   "source": [
    "print(history.history.keys())"
   ]
  },
  {
   "cell_type": "code",
   "execution_count": 97,
   "metadata": {},
   "outputs": [
    {
     "data": {
      "text/plain": [
       "<matplotlib.legend.Legend at 0x7f85f16a7350>"
      ]
     },
     "execution_count": 97,
     "metadata": {},
     "output_type": "execute_result"
    },
    {
     "data": {
      "image/png": "[encoded data removed]",
      "text/plain": [
       "<Figure size 720x576 with 1 Axes>"
      ]
     },
     "metadata": {
      "needs_background": "light"
     },
     "output_type": "display_data"
    }
   ],
   "source": [
    "plt.figure(figsize = (10, 8))\n",
    "plt.plot(history.history['accuracy'])\n",
    "plt.plot(history.history['val_accuracy'])\n",
    "plt.title('model accuracy')\n",
    "plt.ylabel('accuracy')\n",
    "plt.xlabel('epoch')\n",
    "plt.legend(['train', 'test'], loc = 'upper left')"
   ]
  },
  {
   "cell_type": "markdown",
   "metadata": {},
   "source": [
    "Around 40 epoch, the model stops improving in the test dataset."
   ]
  },
  {
   "cell_type": "code",
   "execution_count": 100,
   "metadata": {},
   "outputs": [],
   "source": [
    "predict_results = model.predict(([story_test, question_test]))"
   ]
  },
  {
   "cell_type": "code",
   "execution_count": 102,
   "metadata": {},
   "outputs": [
    {
     "data": {
      "text/plain": [
       "(1000, 38)"
      ]
     },
     "execution_count": 102,
     "metadata": {},
     "output_type": "execute_result"
    }
   ],
   "source": [
    "predict_results.shape"
   ]
  },
  {
   "cell_type": "code",
   "execution_count": 103,
   "metadata": {},
   "outputs": [
    {
     "data": {
      "text/plain": [
       "array([3.1114348e-21, 3.0361022e-21, 2.7092697e-21, 2.9815499e-21,\n",
       "       2.7611986e-21, 3.0801048e-21, 3.5495766e-21, 3.1811282e-21,\n",
       "       2.6703511e-21, 2.9799466e-21, 2.6817436e-21, 3.0114984e-21,\n",
       "       3.0604400e-21, 2.4145511e-21, 3.7570604e-21, 3.5293644e-21,\n",
       "       3.5880357e-21, 2.6111208e-21, 2.5909787e-21, 3.0797522e-21,\n",
       "       2.8142516e-21, 3.1423523e-21, 2.7357630e-21, 2.9665292e-21,\n",
       "       4.4225611e-21, 3.2990790e-21, 2.8138974e-21, 2.0973742e-21,\n",
       "       3.2945392e-21, 3.5192807e-21, 2.9930711e-21, 2.2022763e-21,\n",
       "       4.3552085e-21, 2.6201107e-21, 9.9998569e-01, 1.4363315e-05,\n",
       "       3.3274156e-21, 2.7349283e-21], dtype=float32)"
      ]
     },
     "execution_count": 103,
     "metadata": {},
     "output_type": "execute_result"
    }
   ],
   "source": [
    "predict_results[0]"
   ]
  },
  {
   "cell_type": "markdown",
   "metadata": {},
   "source": [
    "The predict_result for each test data is a vector of probabilities of all the vocabs "
   ]
  },
  {
   "cell_type": "code",
   "execution_count": 106,
   "metadata": {},
   "outputs": [],
   "source": [
    "# convert to prediction to yes/no for the first question\n",
    "val_max = np.argmax(predict_results[0])\n",
    "for key, val in tokenizer.word_index.items():\n",
    "    if val == val_max:\n",
    "        k = key"
   ]
  },
  {
   "cell_type": "code",
   "execution_count": 108,
   "metadata": {},
   "outputs": [
    {
     "name": "stdout",
     "output_type": "stream",
     "text": [
      "Mary got the milk there . John moved to the bedroom .\n",
      "Is John in the kitchen ?\n",
      "The model predict the answer to be: no ,  with probability of 0.9999857\n"
     ]
    }
   ],
   "source": [
    "print(' '.join(test_data[0][0]))\n",
    "print(' '.join(test_data[0][1]))\n",
    "print('The model predict the answer to be:', k, ', ', 'with probability of', predict_results[0][val_max])"
   ]
  },
  {
   "cell_type": "code",
   "execution_count": 109,
   "metadata": {},
   "outputs": [
    {
     "data": {
      "text/plain": [
       "{'.',\n",
       " '?',\n",
       " 'Daniel',\n",
       " 'Is',\n",
       " 'John',\n",
       " 'Mary',\n",
       " 'Sandra',\n",
       " 'apple',\n",
       " 'back',\n",
       " 'bathroom',\n",
       " 'bedroom',\n",
       " 'discarded',\n",
       " 'down',\n",
       " 'dropped',\n",
       " 'football',\n",
       " 'garden',\n",
       " 'got',\n",
       " 'grabbed',\n",
       " 'hallway',\n",
       " 'in',\n",
       " 'journeyed',\n",
       " 'kitchen',\n",
       " 'left',\n",
       " 'milk',\n",
       " 'moved',\n",
       " 'no',\n",
       " 'office',\n",
       " 'picked',\n",
       " 'put',\n",
       " 'the',\n",
       " 'there',\n",
       " 'to',\n",
       " 'took',\n",
       " 'travelled',\n",
       " 'up',\n",
       " 'went',\n",
       " 'yes'}"
      ]
     },
     "execution_count": 109,
     "metadata": {},
     "output_type": "execute_result"
    }
   ],
   "source": [
    "# write your own story and question and have the model to predict it, note that the model only recognize words in the vocab\n",
    "vocab"
   ]
  },
  {
   "cell_type": "code",
   "execution_count": 110,
   "metadata": {},
   "outputs": [],
   "source": [
    "# create a story and question in the same format as in the train set\n",
    "my_story = 'Daniel dropped the apple . Sandra picked up the apple .'\n",
    "my_question = 'Is Sandra in the kitchen ?'\n",
    "new_data = [(my_story.split(), my_question.split(), 'yes')]\n",
    "my_story, my_question, my_answer = vectorize_stories(new_data)"
   ]
  },
  {
   "cell_type": "code",
   "execution_count": 115,
   "metadata": {},
   "outputs": [],
   "source": [
    "new_pred = model.predict(([my_story, my_question]))\n",
    "val_max = np.argmax(new_pred)\n",
    "for key, val in tokenizer.word_index.items():\n",
    "    if val == val_max:\n",
    "        k = key"
   ]
  },
  {
   "cell_type": "code",
   "execution_count": 116,
   "metadata": {},
   "outputs": [
    {
     "data": {
      "text/plain": [
       "'yes'"
      ]
     },
     "execution_count": 116,
     "metadata": {},
     "output_type": "execute_result"
    }
   ],
   "source": [
    "k # the model make the correct prediction"
   ]
  },
  {
   "cell_type": "code",
   "execution_count": 124,
   "metadata": {},
   "outputs": [
    {
     "data": {
      "text/plain": [
       "0.8286194"
      ]
     },
     "execution_count": 124,
     "metadata": {},
     "output_type": "execute_result"
    }
   ],
   "source": [
    "new_pred[0][val_max] # the probability of the prediction"
   ]
  }
 ],
 "metadata": {
  "kernelspec": {
   "display_name": "Python 3",
   "language": "python",
   "name": "python3"
  },
  "language_info": {
   "codemirror_mode": {
    "name": "ipython",
    "version": 3
   },
   "file_extension": ".py",
   "mimetype": "text/x-python",
   "name": "python",
   "nbconvert_exporter": "python",
   "pygments_lexer": "ipython3",
   "version": "3.7.4"
  },
  "toc": {
   "base_numbering": 1,
   "nav_menu": {},
   "number_sections": true,
   "sideBar": true,
   "skip_h1_title": false,
   "title_cell": "Table of Contents",
   "title_sidebar": "Contents",
   "toc_cell": false,
   "toc_position": {
    "height": "calc(100% - 180px)",
    "left": "10px",
    "top": "150px",
    "width": "166.4px"
   },
   "toc_section_display": true,
   "toc_window_display": true
  }
 },
 "nbformat": 4,
 "nbformat_minor": 2
}
